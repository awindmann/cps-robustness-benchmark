{
 "cells": [
  {
   "cell_type": "markdown",
   "metadata": {},
   "source": [
    "# Stochastic PnP, robot arm\n",
    "\n",
    "https://zenodo.org/records/5849300#.Y44M-3bMIuU"
   ]
  },
  {
   "cell_type": "code",
   "execution_count": 1,
   "metadata": {},
   "outputs": [],
   "source": [
    "import numpy as np\n",
    "import pandas as pd"
   ]
  },
  {
   "cell_type": "code",
   "execution_count": 5,
   "metadata": {},
   "outputs": [
    {
     "data": {
      "text/plain": [
       "(1530921, 26)"
      ]
     },
     "execution_count": 5,
     "metadata": {},
     "output_type": "execute_result"
    }
   ],
   "source": [
    "x = np.load(\"../data/raw/stochastic-pnp/data/stochastic_PnP/numpy_data/normal.npy\")\n",
    "x.shape"
   ]
  },
  {
   "cell_type": "code",
   "execution_count": null,
   "metadata": {},
   "outputs": [
    {
     "data": {
      "image/png": "[encoded data removed]",
      "text/plain": [
       "<Figure size 640x480 with 1 Axes>"
      ]
     },
     "metadata": {},
     "output_type": "display_data"
    }
   ],
   "source": [
    "import matplotlib.pyplot as plt\n",
    "plt.plot(x)\n",
    "plt.show()"
   ]
  },
  {
   "cell_type": "code",
   "execution_count": 7,
   "metadata": {},
   "outputs": [
    {
     "data": {
      "text/plain": [
       "['actual_current_0',\n",
       " 'actual_current_1',\n",
       " 'actual_current_2',\n",
       " 'actual_current_3',\n",
       " 'actual_current_4',\n",
       " 'actual_current_5',\n",
       " 'actual_q_0',\n",
       " 'actual_q_1',\n",
       " 'actual_q_2',\n",
       " 'actual_q_3',\n",
       " 'actual_q_4',\n",
       " 'actual_q_5',\n",
       " 'actual_qd_0',\n",
       " 'actual_qd_1',\n",
       " 'actual_qd_2',\n",
       " 'actual_qd_3',\n",
       " 'actual_qd_4',\n",
       " 'actual_qd_5',\n",
       " 'actual_TCP_force_0',\n",
       " 'actual_TCP_force_1',\n",
       " 'actual_TCP_force_2',\n",
       " 'actual_TCP_force_3',\n",
       " 'actual_TCP_force_4',\n",
       " 'actual_TCP_force_5',\n",
       " 'timestamp',\n",
       " 'output_double_register_21']"
      ]
     },
     "execution_count": 7,
     "metadata": {},
     "output_type": "execute_result"
    }
   ],
   "source": [
    "categories = [\"actual_current_\", \"actual_q_\", \"actual_qd_\", \"actual_TCP_force_\"]\n",
    "dimensions = []\n",
    "for category in categories:\n",
    "    for i in range(6):\n",
    "        dimensions.append(category+str(i))\n",
    "dimensions.append(\"timestamp\")\n",
    "dimensions.append(\"output_double_register_21\")\n",
    "dimensions"
   ]
  },
  {
   "cell_type": "code",
   "execution_count": 11,
   "metadata": {},
   "outputs": [],
   "source": [
    "df = pd.DataFrame(x, columns=dimensions)"
   ]
  },
  {
   "cell_type": "code",
   "execution_count": 9,
   "metadata": {},
   "outputs": [
    {
     "data": {
      "text/html": [
       "<div>\n",
       "<style scoped>\n",
       "    .dataframe tbody tr th:only-of-type {\n",
       "        vertical-align: middle;\n",
       "    }\n",
       "\n",
       "    .dataframe tbody tr th {\n",
       "        vertical-align: top;\n",
       "    }\n",
       "\n",
       "    .dataframe thead th {\n",
       "        text-align: right;\n",
       "    }\n",
       "</style>\n",
       "<table border=\"1\" class=\"dataframe\">\n",
       "  <thead>\n",
       "    <tr style=\"text-align: right;\">\n",
       "      <th></th>\n",
       "      <th>actual_current_0</th>\n",
       "      <th>actual_current_1</th>\n",
       "      <th>actual_current_2</th>\n",
       "      <th>actual_current_3</th>\n",
       "      <th>actual_current_4</th>\n",
       "      <th>actual_current_5</th>\n",
       "      <th>actual_q_0</th>\n",
       "      <th>actual_q_1</th>\n",
       "      <th>actual_q_2</th>\n",
       "      <th>actual_q_3</th>\n",
       "      <th>...</th>\n",
       "      <th>actual_qd_4</th>\n",
       "      <th>actual_qd_5</th>\n",
       "      <th>actual_TCP_force_0</th>\n",
       "      <th>actual_TCP_force_1</th>\n",
       "      <th>actual_TCP_force_2</th>\n",
       "      <th>actual_TCP_force_3</th>\n",
       "      <th>actual_TCP_force_4</th>\n",
       "      <th>actual_TCP_force_5</th>\n",
       "      <th>timestamp</th>\n",
       "      <th>output_double_register_21</th>\n",
       "    </tr>\n",
       "  </thead>\n",
       "  <tbody>\n",
       "    <tr>\n",
       "      <th>0</th>\n",
       "      <td>0.896807</td>\n",
       "      <td>2.951889</td>\n",
       "      <td>1.984656</td>\n",
       "      <td>-0.007522</td>\n",
       "      <td>-0.010986</td>\n",
       "      <td>0.023263</td>\n",
       "      <td>-2.253191</td>\n",
       "      <td>-1.901960</td>\n",
       "      <td>-1.836983</td>\n",
       "      <td>-0.969785</td>\n",
       "      <td>...</td>\n",
       "      <td>0.000252</td>\n",
       "      <td>0.000551</td>\n",
       "      <td>-1.570895</td>\n",
       "      <td>-3.832501</td>\n",
       "      <td>21.735861</td>\n",
       "      <td>-0.138936</td>\n",
       "      <td>-0.032058</td>\n",
       "      <td>0.226374</td>\n",
       "      <td>0.00</td>\n",
       "      <td>0.0</td>\n",
       "    </tr>\n",
       "    <tr>\n",
       "      <th>1</th>\n",
       "      <td>1.354311</td>\n",
       "      <td>4.162416</td>\n",
       "      <td>2.845887</td>\n",
       "      <td>0.198083</td>\n",
       "      <td>-0.019982</td>\n",
       "      <td>-0.017708</td>\n",
       "      <td>-2.253009</td>\n",
       "      <td>-1.901949</td>\n",
       "      <td>-1.837009</td>\n",
       "      <td>-0.970138</td>\n",
       "      <td>...</td>\n",
       "      <td>0.001111</td>\n",
       "      <td>-0.000374</td>\n",
       "      <td>-0.787135</td>\n",
       "      <td>-0.144399</td>\n",
       "      <td>19.355615</td>\n",
       "      <td>-0.037121</td>\n",
       "      <td>-0.086258</td>\n",
       "      <td>0.200951</td>\n",
       "      <td>0.01</td>\n",
       "      <td>0.0</td>\n",
       "    </tr>\n",
       "    <tr>\n",
       "      <th>2</th>\n",
       "      <td>1.423659</td>\n",
       "      <td>4.695025</td>\n",
       "      <td>3.182240</td>\n",
       "      <td>0.179284</td>\n",
       "      <td>0.002130</td>\n",
       "      <td>-0.046620</td>\n",
       "      <td>-2.252681</td>\n",
       "      <td>-1.901877</td>\n",
       "      <td>-1.836924</td>\n",
       "      <td>-0.970535</td>\n",
       "      <td>...</td>\n",
       "      <td>0.000978</td>\n",
       "      <td>-0.003735</td>\n",
       "      <td>0.195120</td>\n",
       "      <td>0.844805</td>\n",
       "      <td>17.750094</td>\n",
       "      <td>-0.014025</td>\n",
       "      <td>-0.110106</td>\n",
       "      <td>0.205214</td>\n",
       "      <td>0.02</td>\n",
       "      <td>0.0</td>\n",
       "    </tr>\n",
       "    <tr>\n",
       "      <th>3</th>\n",
       "      <td>1.302933</td>\n",
       "      <td>4.666590</td>\n",
       "      <td>3.169318</td>\n",
       "      <td>0.055369</td>\n",
       "      <td>-0.003917</td>\n",
       "      <td>-0.104669</td>\n",
       "      <td>-2.252147</td>\n",
       "      <td>-1.901621</td>\n",
       "      <td>-1.836766</td>\n",
       "      <td>-0.970751</td>\n",
       "      <td>...</td>\n",
       "      <td>0.003747</td>\n",
       "      <td>-0.006488</td>\n",
       "      <td>-0.085748</td>\n",
       "      <td>-0.055680</td>\n",
       "      <td>18.488220</td>\n",
       "      <td>-0.036509</td>\n",
       "      <td>-0.093551</td>\n",
       "      <td>0.202161</td>\n",
       "      <td>0.03</td>\n",
       "      <td>0.0</td>\n",
       "    </tr>\n",
       "    <tr>\n",
       "      <th>4</th>\n",
       "      <td>0.984919</td>\n",
       "      <td>4.580508</td>\n",
       "      <td>2.858318</td>\n",
       "      <td>-0.021907</td>\n",
       "      <td>-0.001168</td>\n",
       "      <td>-0.121166</td>\n",
       "      <td>-2.251483</td>\n",
       "      <td>-1.901199</td>\n",
       "      <td>-1.836547</td>\n",
       "      <td>-0.971030</td>\n",
       "      <td>...</td>\n",
       "      <td>0.003956</td>\n",
       "      <td>-0.010390</td>\n",
       "      <td>0.453075</td>\n",
       "      <td>-2.206849</td>\n",
       "      <td>19.592341</td>\n",
       "      <td>-0.084406</td>\n",
       "      <td>-0.084090</td>\n",
       "      <td>0.195066</td>\n",
       "      <td>0.04</td>\n",
       "      <td>0.0</td>\n",
       "    </tr>\n",
       "  </tbody>\n",
       "</table>\n",
       "<p>5 rows × 26 columns</p>\n",
       "</div>"
      ],
      "text/plain": [
       "   actual_current_0  actual_current_1  actual_current_2  actual_current_3  \\\n",
       "0          0.896807          2.951889          1.984656         -0.007522   \n",
       "1          1.354311          4.162416          2.845887          0.198083   \n",
       "2          1.423659          4.695025          3.182240          0.179284   \n",
       "3          1.302933          4.666590          3.169318          0.055369   \n",
       "4          0.984919          4.580508          2.858318         -0.021907   \n",
       "\n",
       "   actual_current_4  actual_current_5  actual_q_0  actual_q_1  actual_q_2  \\\n",
       "0         -0.010986          0.023263   -2.253191   -1.901960   -1.836983   \n",
       "1         -0.019982         -0.017708   -2.253009   -1.901949   -1.837009   \n",
       "2          0.002130         -0.046620   -2.252681   -1.901877   -1.836924   \n",
       "3         -0.003917         -0.104669   -2.252147   -1.901621   -1.836766   \n",
       "4         -0.001168         -0.121166   -2.251483   -1.901199   -1.836547   \n",
       "\n",
       "   actual_q_3  ...  actual_qd_4  actual_qd_5  actual_TCP_force_0  \\\n",
       "0   -0.969785  ...     0.000252     0.000551           -1.570895   \n",
       "1   -0.970138  ...     0.001111    -0.000374           -0.787135   \n",
       "2   -0.970535  ...     0.000978    -0.003735            0.195120   \n",
       "3   -0.970751  ...     0.003747    -0.006488           -0.085748   \n",
       "4   -0.971030  ...     0.003956    -0.010390            0.453075   \n",
       "\n",
       "   actual_TCP_force_1  actual_TCP_force_2  actual_TCP_force_3  \\\n",
       "0           -3.832501           21.735861           -0.138936   \n",
       "1           -0.144399           19.355615           -0.037121   \n",
       "2            0.844805           17.750094           -0.014025   \n",
       "3           -0.055680           18.488220           -0.036509   \n",
       "4           -2.206849           19.592341           -0.084406   \n",
       "\n",
       "   actual_TCP_force_4  actual_TCP_force_5  timestamp  \\\n",
       "0           -0.032058            0.226374       0.00   \n",
       "1           -0.086258            0.200951       0.01   \n",
       "2           -0.110106            0.205214       0.02   \n",
       "3           -0.093551            0.202161       0.03   \n",
       "4           -0.084090            0.195066       0.04   \n",
       "\n",
       "   output_double_register_21  \n",
       "0                        0.0  \n",
       "1                        0.0  \n",
       "2                        0.0  \n",
       "3                        0.0  \n",
       "4                        0.0  \n",
       "\n",
       "[5 rows x 26 columns]"
      ]
     },
     "execution_count": 9,
     "metadata": {},
     "output_type": "execute_result"
    }
   ],
   "source": [
    "df.head()"
   ]
  },
  {
   "cell_type": "code",
   "execution_count": 38,
   "metadata": {},
   "outputs": [
    {
     "data": {
      "text/plain": [
       "timestamp\n",
       "0.00      True\n",
       "12.75     True\n",
       "14.00     True\n",
       "1.50      True\n",
       "13.75     True\n",
       "         ...  \n",
       "42.43    False\n",
       "41.39    False\n",
       "41.42    False\n",
       "41.45    False\n",
       "42.37    False\n",
       "Name: count, Length: 8286, dtype: bool"
      ]
     },
     "execution_count": 38,
     "metadata": {},
     "output_type": "execute_result"
    }
   ],
   "source": [
    "df[\"timestamp\"].value_counts()>2"
   ]
  },
  {
   "cell_type": "code",
   "execution_count": 33,
   "metadata": {},
   "outputs": [
    {
     "data": {
      "text/plain": [
       "2205    22.05\n",
       "2206    22.06\n",
       "2207    22.07\n",
       "2208    22.08\n",
       "2209    22.09\n",
       "        ...  \n",
       "2350     0.90\n",
       "2351     0.91\n",
       "2352     0.92\n",
       "2353     0.93\n",
       "2354     0.94\n",
       "Name: timestamp, Length: 150, dtype: float64"
      ]
     },
     "execution_count": 33,
     "metadata": {},
     "output_type": "execute_result"
    }
   ],
   "source": [
    "df.iloc[2205:2355,-2]"
   ]
  },
  {
   "cell_type": "code",
   "execution_count": null,
   "metadata": {},
   "outputs": [],
   "source": []
  }
 ],
 "metadata": {
  "kernelspec": {
   "display_name": "py311",
   "language": "python",
   "name": "python3"
  },
  "language_info": {
   "codemirror_mode": {
    "name": "ipython",
    "version": 3
   },
   "file_extension": ".py",
   "mimetype": "text/x-python",
   "name": "python",
   "nbconvert_exporter": "python",
   "pygments_lexer": "ipython3",
   "version": "3.11.8"
  }
 },
 "nbformat": 4,
 "nbformat_minor": 2
}
