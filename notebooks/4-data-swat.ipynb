{
 "cells": [
  {
   "cell_type": "markdown",
   "metadata": {},
   "source": [
    "# Test the Secure Water Treatment (SWaT) dataset"
   ]
  },
  {
   "cell_type": "code",
   "execution_count": 1,
   "metadata": {},
   "outputs": [],
   "source": [
    "import pandas as pd\n",
    "import plotly.graph_objects as go"
   ]
  },
  {
   "cell_type": "code",
   "execution_count": null,
   "metadata": {},
   "outputs": [],
   "source": [
    "df = pd.read_excel(r\"../data/raw/SWaT/SWaT.A1 _ A2_Dec 2015/Physical/SWaT_Dataset_Normal_v1.xlsx\",\n",
    "                   header=1,\n",
    "                   index_col=0)\n",
    "df.head()\n"
   ]
  },
  {
   "cell_type": "code",
   "execution_count": null,
   "metadata": {},
   "outputs": [],
   "source": [
    "df[\"Normal/Attack\"].unique()"
   ]
  },
  {
   "cell_type": "code",
   "execution_count": 6,
   "metadata": {},
   "outputs": [],
   "source": [
    "df.drop(\"Normal/Attack\", axis=1, inplace=True)"
   ]
  },
  {
   "cell_type": "code",
   "execution_count": null,
   "metadata": {},
   "outputs": [],
   "source": [
    "df.head()"
   ]
  },
  {
   "cell_type": "code",
   "execution_count": null,
   "metadata": {},
   "outputs": [],
   "source": [
    "# translate index to DatetimeIndex\n",
    "df.index = pd.to_datetime(df.index, format=\" %d/%m/%Y %I:%M:%S %p\")\n",
    "df.index"
   ]
  },
  {
   "cell_type": "code",
   "execution_count": null,
   "metadata": {},
   "outputs": [],
   "source": [
    "# shopw all columns\n",
    "pd.set_option('display.max_columns', None)\n",
    "df.describe()"
   ]
  },
  {
   "cell_type": "code",
   "execution_count": null,
   "metadata": {},
   "outputs": [],
   "source": [
    "# df = pd.read_parquet(\"../data/processed/SWaT_Dataset_Normal_v1.parquet\")\n",
    "df.head()"
   ]
  },
  {
   "cell_type": "code",
   "execution_count": null,
   "metadata": {},
   "outputs": [],
   "source": [
    "downsample_factor = 100\n",
    "df_downsampled = df.iloc[::downsample_factor]\n",
    "\n",
    "fig = go.Figure()\n",
    "for col in df_downsampled.columns:\n",
    "    fig.add_trace(\n",
    "        go.Scatter(\n",
    "            x=df_downsampled.index,\n",
    "            y=df_downsampled[col],\n",
    "            mode='lines',\n",
    "            name=col\n",
    "        )\n",
    "    )\n",
    "index_label = \"Datetime\" if isinstance(df_downsampled.index, pd.DatetimeIndex) else \"Index\"\n",
    "fig.update_layout(\n",
    "    title=f\"SWaT Normal | original shape: {df.shape} | plot downsample factor: {downsample_factor}\",\n",
    "    xaxis_title=index_label,\n",
    "    yaxis_title=\"Value\",\n",
    "    legend=dict(\n",
    "        title=\"Columns\",\n",
    "        orientation=\"v\",\n",
    "        x=1.02,\n",
    "        xanchor=\"left\",\n",
    "        y=1\n",
    "    )\n",
    ")\n",
    "fig.show()"
   ]
  },
  {
   "cell_type": "code",
   "execution_count": null,
   "metadata": {},
   "outputs": [],
   "source": [
    "df.to_parquet(r\"../data/processed/SWaT_Dataset_Normal_v1.parquet\")"
   ]
  },
  {
   "cell_type": "code",
   "execution_count": null,
   "metadata": {},
   "outputs": [],
   "source": [
    "df_a = pd.read_excel(r\"../data/raw/SWaT/SWaT.A1 _ A2_Dec 2015/Physical/SWaT_Dataset_Attack_v0.xlsx\",\n",
    "                   header=1,\n",
    "                   index_col=0)\n",
    "df_a.index = pd.to_datetime(df_a.index, format=\" %d/%m/%Y %I:%M:%S %p\")\n",
    "df_a.head()"
   ]
  },
  {
   "cell_type": "code",
   "execution_count": null,
   "metadata": {},
   "outputs": [],
   "source": [
    "downsample_factor = 100\n",
    "df_downsampled = df_a.iloc[::downsample_factor]\n",
    "\n",
    "fig = go.Figure()\n",
    "for col in df_downsampled.columns:\n",
    "    fig.add_trace(\n",
    "        go.Scatter(\n",
    "            x=df_downsampled.index,\n",
    "            y=df_downsampled[col],\n",
    "            mode='lines',\n",
    "            name=col\n",
    "        )\n",
    "    )\n",
    "index_label = \"Datetime\" if isinstance(df_downsampled.index, pd.DatetimeIndex) else \"Index\"\n",
    "fig.update_layout(\n",
    "    title=f\"SWaT Attack | original shape: {df.shape} | plot downsample factor: {downsample_factor}\",\n",
    "    xaxis_title=index_label,\n",
    "    yaxis_title=\"Value\",\n",
    "    legend=dict(\n",
    "        title=\"Columns\",\n",
    "        orientation=\"v\",\n",
    "        x=1.02,\n",
    "        xanchor=\"left\",\n",
    "        y=1\n",
    "    )\n",
    ")\n",
    "fig.show()"
   ]
  },
  {
   "cell_type": "code",
   "execution_count": null,
   "metadata": {},
   "outputs": [],
   "source": [
    "df_a.to_parquet(r\"../data/processed/SWaT_Dataset_Attack_v0.parquet\")\n"
   ]
  },
  {
   "cell_type": "code",
   "execution_count": 3,
   "metadata": {},
   "outputs": [],
   "source": [
    "df = pd.read_parquet(r\"../data/processed/SWaT_Dataset_Normal_v1.parquet\")"
   ]
  },
  {
   "cell_type": "code",
   "execution_count": null,
   "metadata": {},
   "outputs": [],
   "source": [
    "df.shape"
   ]
  },
  {
   "cell_type": "code",
   "execution_count": null,
   "metadata": {},
   "outputs": [],
   "source": [
    "continuous_threshold = 3\n",
    "continuous_features = [feature for feature in df.columns if df[feature].nunique() > continuous_threshold]\n",
    "discrete_features = [feature for feature in df.columns if df[feature].nunique() <= continuous_threshold]\n",
    "\n",
    "print(f\"Continuous features: {len(continuous_features)}\")\n",
    "print(f\"Discrete features: {len(discrete_features)}\")\n",
    "        "
   ]
  },
  {
   "cell_type": "code",
   "execution_count": null,
   "metadata": {},
   "outputs": [],
   "source": []
  }
 ],
 "metadata": {
  "kernelspec": {
   "display_name": "py311",
   "language": "python",
   "name": "python3"
  },
  "language_info": {
   "codemirror_mode": {
    "name": "ipython",
    "version": 3
   },
   "file_extension": ".py",
   "mimetype": "text/x-python",
   "name": "python",
   "nbconvert_exporter": "python",
   "pygments_lexer": "ipython3",
   "version": "3.11.8"
  }
 },
 "nbformat": 4,
 "nbformat_minor": 2
}
