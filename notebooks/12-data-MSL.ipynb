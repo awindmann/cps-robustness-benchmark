{
 "cells": [
  {
   "cell_type": "markdown",
   "metadata": {},
   "source": [
    "# MSL (Mars Science Laboratory)\n",
    "\n",
    "https://paperswithcode.com/dataset/msl"
   ]
  },
  {
   "cell_type": "code",
   "execution_count": 1,
   "metadata": {},
   "outputs": [],
   "source": [
    "import pandas as pd"
   ]
  },
  {
   "cell_type": "code",
   "execution_count": null,
   "metadata": {},
   "outputs": [],
   "source": [
    "import numpy as np\n",
    "\n",
    "data = np.load(\"../data/raw/TS-datasets/MSL/MSL_train.npy\")\n",
    "data.shape"
   ]
  },
  {
   "cell_type": "code",
   "execution_count": null,
   "metadata": {},
   "outputs": [],
   "source": [
    "df = pd.DataFrame(data)\n",
    "df.head()"
   ]
  },
  {
   "cell_type": "code",
   "execution_count": null,
   "metadata": {},
   "outputs": [],
   "source": []
  },
  {
   "cell_type": "code",
   "execution_count": null,
   "metadata": {},
   "outputs": [],
   "source": [
    "import plotly.graph_objects as go\n",
    "\n",
    "downsample_factor = 1\n",
    "df_downsampled = df.iloc[::downsample_factor]\n",
    "\n",
    "fig = go.Figure()\n",
    "for col in df_downsampled.columns:\n",
    "    fig.add_trace(\n",
    "        go.Scatter(\n",
    "            x=df_downsampled.index,\n",
    "            y=df_downsampled[col],\n",
    "            mode='lines',\n",
    "            name=col\n",
    "        )\n",
    "    )\n",
    "index_label = \"Datetime\" if isinstance(df_downsampled.index, pd.DatetimeIndex) else \"Index\"\n",
    "fig.update_layout(\n",
    "    title=f\"MSL | original shape: {df.shape} | plot downsample factor: {downsample_factor}\",\n",
    "    xaxis_title=index_label,\n",
    "    yaxis_title=\"Value\",\n",
    "    legend=dict(\n",
    "        title=\"Columns\",\n",
    "        orientation=\"v\",\n",
    "        x=1.02,\n",
    "        xanchor=\"left\",\n",
    "        y=1\n",
    "    )\n",
    ")\n",
    "fig.show()"
   ]
  },
  {
   "cell_type": "code",
   "execution_count": null,
   "metadata": {},
   "outputs": [],
   "source": [
    "df.describe()"
   ]
  },
  {
   "cell_type": "code",
   "execution_count": null,
   "metadata": {},
   "outputs": [],
   "source": [
    "df.to_csv(\"../data/processed/MSL_train.csv\", index=False)"
   ]
  },
  {
   "cell_type": "code",
   "execution_count": null,
   "metadata": {},
   "outputs": [],
   "source": [
    "import os\n",
    "\n",
    "path = \"../data/raw/SMAP-MSL-kaggle/data/data/train/\"\n",
    "files = os.listdir(path)\n",
    "files.sort()\n",
    "data_list = []\n",
    "for file in files:\n",
    "    data = np.load(path + file)\n",
    "    data_list.append(data)\n",
    "    print(file, data.shape)   \n"
   ]
  },
  {
   "cell_type": "code",
   "execution_count": null,
   "metadata": {},
   "outputs": [],
   "source": [
    "idx = 1\n",
    "df_ = pd.DataFrame(data_list[idx])\n",
    "\n",
    "downsample_factor = 1\n",
    "df_downsampled = df_.iloc[::downsample_factor]\n",
    "\n",
    "fig = go.Figure()\n",
    "for col in df_downsampled.columns:\n",
    "    fig.add_trace(\n",
    "        go.Scatter(\n",
    "            x=df_downsampled.index,\n",
    "            y=df_downsampled[col],\n",
    "            mode='lines',\n",
    "            name=col\n",
    "        )\n",
    "    )\n",
    "index_label = \"Datetime\" if isinstance(df_downsampled.index, pd.DatetimeIndex) else \"Index\"\n",
    "fig.update_layout(\n",
    "    title=f\"{files[idx].split('.')[0]} | original shape: {df_.shape} | plot downsample factor: {downsample_factor}\",\n",
    "    xaxis_title=index_label,\n",
    "    yaxis_title=\"Value\",\n",
    "    legend=dict(\n",
    "        title=\"Columns\",\n",
    "        orientation=\"v\",\n",
    "        x=1.02,\n",
    "        xanchor=\"left\",\n",
    "        y=1\n",
    "    )\n",
    ")\n",
    "fig.show()"
   ]
  },
  {
   "cell_type": "code",
   "execution_count": null,
   "metadata": {},
   "outputs": [],
   "source": [
    "df_label = pd.DataFrame(np.load(\"../data/raw/TimesNet-datasets/MSL/MSL_test_label.npy\"))\n",
    "df_label"
   ]
  },
  {
   "cell_type": "code",
   "execution_count": null,
   "metadata": {},
   "outputs": [],
   "source": []
  }
 ],
 "metadata": {
  "kernelspec": {
   "display_name": "py311",
   "language": "python",
   "name": "python3"
  },
  "language_info": {
   "codemirror_mode": {
    "name": "ipython",
    "version": 3
   },
   "file_extension": ".py",
   "mimetype": "text/x-python",
   "name": "python",
   "nbconvert_exporter": "python",
   "pygments_lexer": "ipython3",
   "version": "3.11.8"
  }
 },
 "nbformat": 4,
 "nbformat_minor": 2
}
