{
 "cells": [
  {
   "cell_type": "markdown",
   "metadata": {},
   "source": [
    "# SKAB Dataset"
   ]
  },
  {
   "cell_type": "code",
   "execution_count": 6,
   "metadata": {},
   "outputs": [],
   "source": [
    "import pandas as pd"
   ]
  },
  {
   "cell_type": "code",
   "execution_count": null,
   "metadata": {},
   "outputs": [],
   "source": [
    "df = pd.read_csv(\"../data/raw/SKAB/anomaly-free.csv\", sep=\";\", index_col=0)\n",
    "df.head()"
   ]
  },
  {
   "cell_type": "code",
   "execution_count": null,
   "metadata": {},
   "outputs": [],
   "source": [
    "df.shape"
   ]
  },
  {
   "cell_type": "code",
   "execution_count": null,
   "metadata": {},
   "outputs": [],
   "source": [
    "import plotly.graph_objects as go\n",
    "\n",
    "downsample_factor = 1\n",
    "df_downsampled = df.iloc[::downsample_factor]\n",
    "\n",
    "fig = go.Figure()\n",
    "for col in df_downsampled.columns:\n",
    "    fig.add_trace(\n",
    "        go.Scatter(\n",
    "            x=df_downsampled.index,\n",
    "            y=df_downsampled[col],\n",
    "            mode='lines',\n",
    "            name=col\n",
    "        )\n",
    "    )\n",
    "index_label = \"Datetime\" if isinstance(df_downsampled.index, pd.DatetimeIndex) else \"Index\"\n",
    "fig.update_layout(\n",
    "    title=f\"SKAB | original shape: {df.shape} | plot downsample factor: {downsample_factor}\",\n",
    "    xaxis_title=index_label,\n",
    "    yaxis_title=\"Value\",\n",
    "    legend=dict(\n",
    "        title=\"Columns\",\n",
    "        orientation=\"v\",\n",
    "        x=1.02,\n",
    "        xanchor=\"left\",\n",
    "        y=1\n",
    "    )\n",
    ")\n",
    "fig.show()"
   ]
  },
  {
   "cell_type": "code",
   "execution_count": null,
   "metadata": {},
   "outputs": [],
   "source": [
    "df.to_csv(\"../data/processed/SKAB_anomaly_free.csv\")"
   ]
  }
 ],
 "metadata": {
  "kernelspec": {
   "display_name": "py311",
   "language": "python",
   "name": "python3"
  },
  "language_info": {
   "codemirror_mode": {
    "name": "ipython",
    "version": 3
   },
   "file_extension": ".py",
   "mimetype": "text/x-python",
   "name": "python",
   "nbconvert_exporter": "python",
   "pygments_lexer": "ipython3",
   "version": "3.11.8"
  }
 },
 "nbformat": 4,
 "nbformat_minor": 2
}
