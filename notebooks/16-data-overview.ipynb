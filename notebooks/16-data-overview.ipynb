{
 "cells": [
  {
   "cell_type": "markdown",
   "metadata": {},
   "source": [
    "# Data Overview"
   ]
  },
  {
   "cell_type": "code",
   "execution_count": 13,
   "metadata": {},
   "outputs": [],
   "source": [
    "import glob\n",
    "import os\n",
    "import pandas as pd\n",
    "import plotly.graph_objs as go\n",
    "import plotly.io as pio"
   ]
  },
  {
   "cell_type": "code",
   "execution_count": null,
   "metadata": {},
   "outputs": [],
   "source": [
    "files = glob.glob(\"../data/processed/*\")\n",
    "files.sort()\n",
    "files"
   ]
  },
  {
   "cell_type": "code",
   "execution_count": null,
   "metadata": {},
   "outputs": [],
   "source": [
    "df = pd.read_csv('../data/processed/MSL_train.csv')\n",
    "# pd.infer_freq(df.index)\n",
    "df.index"
   ]
  },
  {
   "cell_type": "code",
   "execution_count": null,
   "metadata": {},
   "outputs": [],
   "source": [
    "for file_path in files:\n",
    "    if file_path.endswith(\".parquet\"):\n",
    "        df = pd.read_parquet(file_path)\n",
    "    elif file_path.endswith(\".csv\"):\n",
    "        df = pd.read_csv(file_path)\n",
    "    else:\n",
    "        print(f\"Skipping '{file_path}' (unsupported file type).\")\n",
    "        continue\n",
    "\n",
    "    try:\n",
    "        df.set_index(pd.to_datetime(df.iloc[:, 0], format=\"%Y-%m-%d %H:%M:%S\"), inplace=True)\n",
    "        df.drop(df.columns[0], axis=1, inplace=True)\n",
    "    except (ValueError, TypeError):\n",
    "        pass\n",
    "\n",
    "    if df.shape[0] > 1000000:\n",
    "        downsample_factor = 1000\n",
    "    elif df.shape[0] > 100000:\n",
    "        downsample_factor = 100\n",
    "    elif df.shape[0] > 10000:\n",
    "        downsample_factor = 10\n",
    "    else:\n",
    "        downsample_factor = 1\n",
    "    df_downsampled = df.iloc[::downsample_factor]\n",
    "\n",
    "    fig = go.Figure()\n",
    "    for col in df_downsampled.columns:\n",
    "        fig.add_trace(\n",
    "            go.Scatter(\n",
    "                x=df_downsampled.index,\n",
    "                y=df_downsampled[col],\n",
    "                mode='lines',\n",
    "                name=col\n",
    "            )\n",
    "        )\n",
    "    index_label = \"Datetime\" if isinstance(df_downsampled.index, pd.DatetimeIndex) else \"Index\"\n",
    "    fig.update_layout(\n",
    "        title=f\"{os.path.basename(file_path)} | original shape: {df.shape} | plot downsample factor: {downsample_factor}\",\n",
    "        xaxis_title=index_label,\n",
    "        yaxis_title=\"Value\",\n",
    "        legend=dict(\n",
    "            title=\"Columns\",\n",
    "            orientation=\"v\",\n",
    "            x=1.02,\n",
    "            xanchor=\"left\",\n",
    "            y=1\n",
    "        )\n",
    "    )\n",
    "    fig.show()"
   ]
  },
  {
   "cell_type": "code",
   "execution_count": null,
   "metadata": {},
   "outputs": [],
   "source": []
  }
 ],
 "metadata": {
  "kernelspec": {
   "display_name": "py311",
   "language": "python",
   "name": "python3"
  },
  "language_info": {
   "codemirror_mode": {
    "name": "ipython",
    "version": 3
   },
   "file_extension": ".py",
   "mimetype": "text/x-python",
   "name": "python",
   "nbconvert_exporter": "python",
   "pygments_lexer": "ipython3",
   "version": "3.11.8"
  }
 },
 "nbformat": 4,
 "nbformat_minor": 2
}
