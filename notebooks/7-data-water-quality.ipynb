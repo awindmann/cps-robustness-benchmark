{
 "cells": [
  {
   "cell_type": "markdown",
   "metadata": {},
   "source": [
    "# Water Quality Gecco Challenge 2018\n",
    "\n",
    "https://www.spotseven.de/gecco/gecco-challenge/gecco-challenge-2018/"
   ]
  },
  {
   "cell_type": "code",
   "execution_count": null,
   "metadata": {},
   "outputs": [],
   "source": [
    "import pyreadr\n",
    "\n",
    "file = pyreadr.read_r(\"../data/raw/WaterQuality/source/R/Framework/Data/waterDataTraining.RDS\")\n",
    "file"
   ]
  },
  {
   "cell_type": "code",
   "execution_count": null,
   "metadata": {},
   "outputs": [],
   "source": [
    "import pandas as pd\n",
    "\n",
    "df = list(file.values())[0]\n",
    "\n",
    "df.set_index(\"Time\", inplace=True)\n",
    "df.dropna(inplace=True)\n",
    "df"
   ]
  },
  {
   "cell_type": "code",
   "execution_count": null,
   "metadata": {},
   "outputs": [],
   "source": [
    "df.drop(columns=\"EVENT\", inplace=True)\n",
    "df"
   ]
  },
  {
   "cell_type": "code",
   "execution_count": null,
   "metadata": {},
   "outputs": [],
   "source": [
    "import plotly.graph_objects as go\n",
    "\n",
    "downsample_factor = 10\n",
    "df_downsampled = df.iloc[::downsample_factor]\n",
    "\n",
    "fig = go.Figure()\n",
    "for col in df_downsampled.columns:\n",
    "    fig.add_trace(\n",
    "        go.Scatter(\n",
    "            x=df_downsampled.index,\n",
    "            y=df_downsampled[col],\n",
    "            mode='lines',\n",
    "            name=col\n",
    "        )\n",
    "    )\n",
    "index_label = \"Datetime\" if isinstance(df_downsampled.index, pd.DatetimeIndex) else \"Index\"\n",
    "fig.update_layout(\n",
    "    title=f\"Water Quality | original shape: {df.shape} | plot downsample factor: {downsample_factor}\",\n",
    "    xaxis_title=index_label,\n",
    "    yaxis_title=\"Value\",\n",
    "    legend=dict(\n",
    "        title=\"Columns\",\n",
    "        orientation=\"v\",\n",
    "        x=1.02,\n",
    "        xanchor=\"left\",\n",
    "        y=1\n",
    "    )\n",
    ")\n",
    "fig.show()"
   ]
  },
  {
   "cell_type": "code",
   "execution_count": 10,
   "metadata": {},
   "outputs": [],
   "source": [
    "df.dropna(inplace=True)\n"
   ]
  },
  {
   "cell_type": "code",
   "execution_count": null,
   "metadata": {},
   "outputs": [],
   "source": [
    "df.to_csv(\"../data/processed/water_quality.csv\")"
   ]
  }
 ],
 "metadata": {
  "kernelspec": {
   "display_name": "py311",
   "language": "python",
   "name": "python3"
  },
  "language_info": {
   "codemirror_mode": {
    "name": "ipython",
    "version": 3
   },
   "file_extension": ".py",
   "mimetype": "text/x-python",
   "name": "python",
   "nbconvert_exporter": "python",
   "pygments_lexer": "ipython3",
   "version": "3.11.8"
  }
 },
 "nbformat": 4,
 "nbformat_minor": 2
}
