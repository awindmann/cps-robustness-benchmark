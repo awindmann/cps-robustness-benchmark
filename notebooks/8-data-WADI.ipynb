{
 "cells": [
  {
   "cell_type": "markdown",
   "metadata": {},
   "source": [
    "# WADI Dataset"
   ]
  },
  {
   "cell_type": "code",
   "execution_count": 1,
   "metadata": {},
   "outputs": [],
   "source": [
    "import pandas as pd"
   ]
  },
  {
   "cell_type": "markdown",
   "metadata": {},
   "source": [
    "In the 2nd version of the dataset, unstable time frames have been removed. The first version is continuous (and more realistic), so we use that one."
   ]
  },
  {
   "cell_type": "code",
   "execution_count": 2,
   "metadata": {},
   "outputs": [],
   "source": [
    "df = pd.read_csv(\"../data/raw/WADI/WADI.A1_9 Oct 2017/WADI_14days.csv\", skiprows=4)"
   ]
  },
  {
   "cell_type": "code",
   "execution_count": null,
   "metadata": {},
   "outputs": [],
   "source": [
    "df.head()"
   ]
  },
  {
   "cell_type": "code",
   "execution_count": null,
   "metadata": {},
   "outputs": [],
   "source": [
    "df[\"Row\"]"
   ]
  },
  {
   "cell_type": "code",
   "execution_count": null,
   "metadata": {},
   "outputs": [],
   "source": [
    "df[\"Time\"] = pd.to_datetime(df['Date'] + ' ' + df['Time'])\n",
    "df.drop(columns=[\"Row\", \"Date\"], inplace=True)\n",
    "df.set_index(\"Time\", inplace=True)\n",
    "df.head()"
   ]
  },
  {
   "cell_type": "code",
   "execution_count": null,
   "metadata": {},
   "outputs": [],
   "source": [
    "df.columns"
   ]
  },
  {
   "cell_type": "code",
   "execution_count": null,
   "metadata": {},
   "outputs": [],
   "source": [
    "df.columns = [col.split(\"\\\\\")[-1] for col in df.columns]\n",
    "df.head()"
   ]
  },
  {
   "cell_type": "code",
   "execution_count": null,
   "metadata": {},
   "outputs": [],
   "source": [
    "df.isna().sum().sort_values(ascending=False)"
   ]
  },
  {
   "cell_type": "code",
   "execution_count": null,
   "metadata": {},
   "outputs": [],
   "source": [
    "df.shape"
   ]
  },
  {
   "cell_type": "code",
   "execution_count": null,
   "metadata": {},
   "outputs": [],
   "source": [
    "df.drop(columns=['2_LS_001_AL', '2_LS_002_AL', '2_P_001_STATUS', '2_P_002_STATUS'], inplace=True)\n",
    "df.isna().sum().sort_values(ascending=False)"
   ]
  },
  {
   "cell_type": "code",
   "execution_count": null,
   "metadata": {},
   "outputs": [],
   "source": [
    "df.dropna(axis=0, inplace=True)\n",
    "df.shape"
   ]
  },
  {
   "cell_type": "code",
   "execution_count": null,
   "metadata": {},
   "outputs": [],
   "source": [
    "df.describe()"
   ]
  },
  {
   "cell_type": "code",
   "execution_count": 51,
   "metadata": {},
   "outputs": [],
   "source": [
    "df.to_csv(\"../data/processed/WADI_14days.csv\")"
   ]
  },
  {
   "cell_type": "code",
   "execution_count": null,
   "metadata": {},
   "outputs": [],
   "source": [
    "import plotly.graph_objects as go\n",
    "\n",
    "downsample_factor = 1000\n",
    "df_downsampled = df.iloc[::downsample_factor]\n",
    "\n",
    "fig = go.Figure()\n",
    "for col in df_downsampled.columns:\n",
    "    fig.add_trace(\n",
    "        go.Scatter(\n",
    "            x=df_downsampled.index,\n",
    "            y=df_downsampled[col],\n",
    "            mode='lines',\n",
    "            name=col\n",
    "        )\n",
    "    )\n",
    "index_label = \"Datetime\" if isinstance(df_downsampled.index, pd.DatetimeIndex) else \"Index\"\n",
    "fig.update_layout(\n",
    "    title=f\"WADI v1 normal | original shape: {df.shape} | plot downsample factor: {downsample_factor}\",\n",
    "    xaxis_title=index_label,\n",
    "    yaxis_title=\"Value\",\n",
    "    legend=dict(\n",
    "        title=\"Columns\",\n",
    "        orientation=\"v\",\n",
    "        x=1.02,\n",
    "        xanchor=\"left\",\n",
    "        y=1\n",
    "    )\n",
    ")\n",
    "fig.show()"
   ]
  },
  {
   "cell_type": "markdown",
   "metadata": {},
   "source": [
    "Now load the attack data."
   ]
  },
  {
   "cell_type": "code",
   "execution_count": null,
   "metadata": {},
   "outputs": [],
   "source": [
    "df_a = pd.read_csv(\"../data/raw/WADI/WADI.A1_9 Oct 2017/WADI_attackdata.csv\")\n",
    "df_a.head()"
   ]
  },
  {
   "cell_type": "code",
   "execution_count": null,
   "metadata": {},
   "outputs": [],
   "source": [
    "df_a[\"Time\"] = pd.to_datetime(df_a['Date'] + ' ' + df_a['Time'])\n",
    "df_a.drop(columns=[\"Row\", \"Date\"], inplace=True)\n",
    "df_a.set_index(\"Time\", inplace=True)\n",
    "df_a.columns = [col.split(\"\\\\\")[-1] for col in df_a.columns]\n",
    "df_a.head()"
   ]
  },
  {
   "cell_type": "code",
   "execution_count": null,
   "metadata": {},
   "outputs": [],
   "source": [
    "df_a.drop(columns=['2_LS_001_AL', '2_LS_002_AL', '2_P_001_STATUS', '2_P_002_STATUS'], inplace=True)\n",
    "df_a.isna().sum().sort_values(ascending=False)"
   ]
  },
  {
   "cell_type": "code",
   "execution_count": null,
   "metadata": {},
   "outputs": [],
   "source": [
    "downsample_factor = 100\n",
    "df_downsampled = df_a.iloc[::downsample_factor]\n",
    "\n",
    "fig = go.Figure()\n",
    "for col in df_downsampled.columns:\n",
    "    fig.add_trace(\n",
    "        go.Scatter(\n",
    "            x=df_downsampled.index,\n",
    "            y=df_downsampled[col],\n",
    "            mode='lines',\n",
    "            name=col\n",
    "        )\n",
    "    )\n",
    "index_label = \"Datetime\" if isinstance(df_downsampled.index, pd.DatetimeIndex) else \"Index\"\n",
    "fig.update_layout(\n",
    "    title=f\"WADI v1 attack | original shape: {df_a.shape} | plot downsample factor: {downsample_factor}\",\n",
    "    xaxis_title=index_label,\n",
    "    yaxis_title=\"Value\",\n",
    "    legend=dict(\n",
    "        title=\"Columns\",\n",
    "        orientation=\"v\",\n",
    "        x=1.02,\n",
    "        xanchor=\"left\",\n",
    "        y=1\n",
    "    )\n",
    ")\n",
    "fig.show()"
   ]
  },
  {
   "cell_type": "code",
   "execution_count": 60,
   "metadata": {},
   "outputs": [],
   "source": [
    "df_a.to_csv(\"../data/processed/WADI_14days_attack.csv\")"
   ]
  },
  {
   "cell_type": "code",
   "execution_count": null,
   "metadata": {},
   "outputs": [],
   "source": []
  }
 ],
 "metadata": {
  "kernelspec": {
   "display_name": "py311",
   "language": "python",
   "name": "python3"
  },
  "language_info": {
   "codemirror_mode": {
    "name": "ipython",
    "version": 3
   },
   "file_extension": ".py",
   "mimetype": "text/x-python",
   "name": "python",
   "nbconvert_exporter": "python",
   "pygments_lexer": "ipython3",
   "version": "3.11.8"
  }
 },
 "nbformat": 4,
 "nbformat_minor": 2
}
